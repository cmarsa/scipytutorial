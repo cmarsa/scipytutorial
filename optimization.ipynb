{
 "cells": [
  {
   "cell_type": "markdown",
   "metadata": {},
   "source": [
    "# Mathematical optimization: finding minima of functions"
   ]
  },
  {
   "cell_type": "code",
   "execution_count": 4,
   "metadata": {},
   "outputs": [],
   "source": [
    "import numpy as np"
   ]
  },
  {
   "cell_type": "markdown",
   "metadata": {},
   "source": [
    "Mathematical optimization deals with the problem of finding numerically minimums (or maximums or zeros) of a function. In this context, the function is called cost function, or objective function, or energy.\n",
    "\n",
    "Here, we are interested in using `scipy.optimize` for black-box optimization: we do not rely on the mathematical expression of the function that we are optimizing. Note that this expression can often be used for more efficient, non black-box, optimization."
   ]
  },
  {
   "cell_type": "markdown",
   "metadata": {},
   "source": [
    "Not all optimization problems are equal. Knowing your problem enables you to choose the right tool.\n",
    "\n",
    "The scale of an optimization problem is pretty much set by the dimensionality of the problem, i.e. the number of scalar variables on which the search is performed."
   ]
  },
  {
   "cell_type": "code",
   "execution_count": 7,
   "metadata": {},
   "outputs": [
    {
     "data": {
      "image/png": "[encoded data removed]",
      "text/plain": [
       "<Figure size 216x180 with 1 Axes>"
      ]
     },
     "metadata": {
      "needs_background": "light"
     },
     "output_type": "display_data"
    },
    {
     "data": {
      "image/png": "[encoded data removed]",
      "text/plain": [
       "<Figure size 216x180 with 1 Axes>"
      ]
     },
     "metadata": {
      "needs_background": "light"
     },
     "output_type": "display_data"
    }
   ],
   "source": [
    "import numpy as np\n",
    "import matplotlib.pyplot as plt\n",
    "\n",
    "x = np.linspace(-1, 2)\n",
    "\n",
    "plt.figure(1, figsize=(3, 2.5))\n",
    "plt.clf()\n",
    "\n",
    "# A convex function\n",
    "plt.plot(x, x**2, linewidth=2)\n",
    "plt.text(-.7, -.6**2, '$f$', size=20)\n",
    "\n",
    "# The tangent in one point\n",
    "plt.plot(x, 2*x - 1)\n",
    "plt.plot(1, 1, 'k+')\n",
    "plt.text(.3, -.75, \"Tangent to $f$\", size=15)\n",
    "plt.text(1, 1 - .5, 'C', size=15)\n",
    "\n",
    "# Convexity as barycenter\n",
    "plt.plot([.35, 1.85], [.35**2, 1.85**2])\n",
    "plt.plot([.35, 1.85], [.35**2, 1.85**2], 'k+')\n",
    "plt.text(.35 - .2, .35**2 + .1, 'A', size=15)\n",
    "plt.text(1.85 - .2, 1.85**2, 'B', size=15)\n",
    "\n",
    "plt.ylim(ymin=-1)\n",
    "plt.axis('off')\n",
    "plt.tight_layout()\n",
    "\n",
    "# Convexity as barycenter\n",
    "plt.figure(2, figsize=(3, 2.5))\n",
    "plt.clf()\n",
    "plt.plot(x, x**2 + np.exp(-5*(x - .5)**2), linewidth=2)\n",
    "plt.text(-.7, -.6**2, '$f$', size=20)\n",
    "\n",
    "plt.ylim(ymin=-1)\n",
    "plt.axis('off')\n",
    "plt.tight_layout()\n",
    "plt.show()"
   ]
  },
  {
   "cell_type": "markdown",
   "metadata": {},
   "source": [
    "## 2.7.1.3. Noisy versus exact cost functions"
   ]
  },
  {
   "cell_type": "markdown",
   "metadata": {},
   "source": [
    "__Noisy gradients__\n",
    "\n",
    "Many optimization methods rely on gradients of the objective function. If the gradient function is not given, they are computed numerically, which induces errors. In such situation, even if the objective function is not noisy, a gradient-based optimization may be a noisy optimization."
   ]
  },
  {
   "cell_type": "code",
   "execution_count": 9,
   "metadata": {},
   "outputs": [
    {
     "data": {
      "image/png": "[encoded data removed]",
      "text/plain": [
       "<Figure size 216x180 with 1 Axes>"
      ]
     },
     "metadata": {
      "needs_background": "light"
     },
     "output_type": "display_data"
    }
   ],
   "source": [
    "import numpy as np\n",
    "import matplotlib.pyplot as plt\n",
    "\n",
    "np.random.seed(0)\n",
    "\n",
    "x = np.linspace(-5, 5, 101)\n",
    "x_ = np.linspace(-5, 5, 31)\n",
    "\n",
    "def f(x):\n",
    "    return -np.exp(-x**2)\n",
    "\n",
    "# A smooth function\n",
    "plt.figure(1, figsize=(3, 2.5))\n",
    "plt.clf()\n",
    "\n",
    "plt.plot(x_, f(x_) + .2*np.random.normal(size=31), linewidth=2)\n",
    "plt.plot(x, f(x), linewidth=2)\n",
    "\n",
    "plt.ylim(ymin=-1.3)\n",
    "plt.axis('off')\n",
    "plt.tight_layout()\n",
    "plt.show()"
   ]
  },
  {
   "cell_type": "markdown",
   "metadata": {},
   "source": [
    "## 2.7.2. A review of the different optimizers\n",
    "## 2.7.2.1. Getting started: 1D optimization\n"
   ]
  },
  {
   "cell_type": "markdown",
   "metadata": {},
   "source": [
    "Let’s get started by finding the minimum of the scalar function\n",
    "\n",
    "$$f(x)=\\exp[(x-0.7)^2] $$\n",
    "\n",
    "`scipy.optimize.minimize_scalar()` uses Brent’s method to find the minimum of a function"
   ]
  },
  {
   "cell_type": "code",
   "execution_count": 5,
   "metadata": {},
   "outputs": [
    {
     "data": {
      "text/plain": [
       "True"
      ]
     },
     "execution_count": 5,
     "metadata": {},
     "output_type": "execute_result"
    }
   ],
   "source": [
    "from scipy import optimize\n",
    "\n",
    "def f(x):\n",
    "    return -np.exp(-(x - 0.7) ** 2)\n",
    "\n",
    "result = optimize.minimize_scalar(f)\n",
    "result.success"
   ]
  },
  {
   "cell_type": "code",
   "execution_count": 6,
   "metadata": {},
   "outputs": [
    {
     "data": {
      "text/plain": [
       "0.6999999997839409"
      ]
     },
     "execution_count": 6,
     "metadata": {},
     "output_type": "execute_result"
    }
   ],
   "source": [
    "x_min = result.x\n",
    "x_min"
   ]
  },
  {
   "cell_type": "code",
   "execution_count": 8,
   "metadata": {},
   "outputs": [
    {
     "name": "stdout",
     "output_type": "stream",
     "text": [
      "Converged at  6\n",
      "Converged at  23\n"
     ]
    },
    {
     "data": {
      "image/png": "[encoded data removed]",
      "text/plain": [
       "<Figure size 216x180 with 1 Axes>"
      ]
     },
     "metadata": {
      "needs_background": "light"
     },
     "output_type": "display_data"
    },
    {
     "data": {
      "image/png": "[encoded data removed]",
      "text/plain": [
       "<Figure size 288x216 with 1 Axes>"
      ]
     },
     "metadata": {
      "needs_background": "light"
     },
     "output_type": "display_data"
    },
    {
     "data": {
      "image/png": "[encoded data removed]",
      "text/plain": [
       "<Figure size 216x180 with 1 Axes>"
      ]
     },
     "metadata": {
      "needs_background": "light"
     },
     "output_type": "display_data"
    },
    {
     "data": {
      "image/png": "[encoded data removed]",
      "text/plain": [
       "<Figure size 288x216 with 1 Axes>"
      ]
     },
     "metadata": {
      "needs_background": "light"
     },
     "output_type": "display_data"
    }
   ],
   "source": [
    "import numpy as np\n",
    "import matplotlib.pyplot as plt\n",
    "from scipy import optimize\n",
    "\n",
    "x = np.linspace(-1, 3, 100)\n",
    "x_0 = np.exp(-1)\n",
    "\n",
    "def f(x):\n",
    "    return (x - x_0)**2 + epsilon*np.exp(-5*(x - .5 - x_0)**2)\n",
    "\n",
    "for epsilon in (0, 1):\n",
    "    plt.figure(figsize=(3, 2.5))\n",
    "    plt.axes([0, 0, 1, 1])\n",
    "\n",
    "    # A convex function\n",
    "    plt.plot(x, f(x), linewidth=2)\n",
    "\n",
    "    # Apply brent method. To have access to the iteration, do this in an\n",
    "    # artificial way: allow the algorithm to iter only once\n",
    "    all_x = list()\n",
    "    all_y = list()\n",
    "    for iter in range(30):\n",
    "        result = optimize.minimize_scalar(f, bracket=(-5, 2.9, 4.5), method=\"Brent\",\n",
    "                    options={\"maxiter\": iter}, tol=np.finfo(1.).eps)\n",
    "        if result.success:\n",
    "            print('Converged at ', iter)\n",
    "            break\n",
    "\n",
    "        this_x = result.x\n",
    "        all_x.append(this_x)\n",
    "        all_y.append(f(this_x))\n",
    "        if iter < 6:\n",
    "            plt.text(this_x - .05*np.sign(this_x) - .05,\n",
    "                    f(this_x) + 1.2*(.3 - iter % 2), iter + 1,\n",
    "                    size=12)\n",
    "\n",
    "    plt.plot(all_x[:10], all_y[:10], 'k+', markersize=12, markeredgewidth=2)\n",
    "\n",
    "    plt.plot(all_x[-1], all_y[-1], 'rx', markersize=12)\n",
    "    plt.axis('off')\n",
    "    plt.ylim(ymin=-1, ymax=8)\n",
    "\n",
    "    plt.figure(figsize=(4, 3))\n",
    "    plt.semilogy(np.abs(all_y - all_y[-1]), linewidth=2)\n",
    "    plt.ylabel('Error on f(x)')\n",
    "    plt.xlabel('Iteration')\n",
    "    plt.tight_layout()\n",
    "\n",
    "plt.show()"
   ]
  },
  {
   "cell_type": "markdown",
   "metadata": {},
   "source": [
    "## 2.7.2.2. Gradient based methods"
   ]
  },
  {
   "cell_type": "markdown",
   "metadata": {},
   "source": [
    "Gradient descent basically consists in taking small steps in the direction of the gradient, that is the direction of the steepest descent."
   ]
  },
  {
   "cell_type": "markdown",
   "metadata": {},
   "source": [
    "The core problem of gradient-methods on ill-conditioned problems is that the gradient tends not to point in the direction of the minimum."
   ]
  },
  {
   "cell_type": "markdown",
   "metadata": {},
   "source": [
    "Very anisotropic (ill-conditioned) functions are harder to optimize.\n",
    "The more a function looks like a quadratic function (elliptic iso-curves), the easier it is to optimize."
   ]
  },
  {
   "cell_type": "markdown",
   "metadata": {},
   "source": [
    "An example demoing gradient descent by creating figures that trace the evolution of the optimizer."
   ]
  },
  {
   "cell_type": "markdown",
   "metadata": {},
   "source": [
    "scipy provides `scipy.optimize.minimize()` to find the minimum of scalar functions of one or more variables. The simple conjugate gradient method can be used by setting the parameter method to `CG`"
   ]
  },
  {
   "cell_type": "code",
   "execution_count": 10,
   "metadata": {},
   "outputs": [],
   "source": [
    "def f(x):\n",
    "    # rosenbrock function\n",
    "    return .5*(1 - x[0])**2 + (x[1] - x[0]**2)**2"
   ]
  },
  {
   "cell_type": "code",
   "execution_count": 12,
   "metadata": {},
   "outputs": [
    {
     "data": {
      "text/plain": [
       "     fun: 1.6486281937428067e-11\n",
       "     jac: array([-6.15024682e-06,  2.53707854e-07])\n",
       " message: 'Optimization terminated successfully.'\n",
       "    nfev: 81\n",
       "     nit: 13\n",
       "    njev: 27\n",
       "  status: 0\n",
       " success: True\n",
       "       x: array([0.99999426, 0.99998864])"
      ]
     },
     "execution_count": 12,
     "metadata": {},
     "output_type": "execute_result"
    }
   ],
   "source": [
    "optimize.minimize(f, [2, -1], method='CG')"
   ]
  },
  {
   "cell_type": "markdown",
   "metadata": {},
   "source": [
    "Gradient methods need the Jacobian (gradient) of the function. They can compute it numerically, but will perform better if you can pass them the gradient:"
   ]
  },
  {
   "cell_type": "code",
   "execution_count": 13,
   "metadata": {},
   "outputs": [],
   "source": [
    "def jacobian(x):\n",
    "    return np.array((-2*.5*(1 - x[0]) - 4*x[0]*(x[1] - x[0]**2), 2*(x[1] - x[0]**2)))"
   ]
  },
  {
   "cell_type": "code",
   "execution_count": 14,
   "metadata": {},
   "outputs": [
    {
     "data": {
      "text/plain": [
       "     fun: 2.957865890641887e-14\n",
       "     jac: array([ 7.18259502e-07, -2.99030306e-07])\n",
       " message: 'Optimization terminated successfully.'\n",
       "    nfev: 16\n",
       "     nit: 8\n",
       "    njev: 16\n",
       "  status: 0\n",
       " success: True\n",
       "       x: array([1.00000012, 1.00000009])"
      ]
     },
     "execution_count": 14,
     "metadata": {},
     "output_type": "execute_result"
    }
   ],
   "source": [
    "optimize.minimize(f, [2, 1], method='CG', jac=jacobian)"
   ]
  },
  {
   "cell_type": "markdown",
   "metadata": {},
   "source": [
    "## 2.7.2.3. Newton and quasi-newton methods\n",
    "Newton methods use a local quadratic approximation to compute the jump direction. For this purpose, they rely on the 2 first derivative of the function: the gradient and the Hessian."
   ]
  },
  {
   "cell_type": "markdown",
   "metadata": {},
   "source": [
    "In scipy, you can use the Newton method by setting method to Newton-CG in scipy.optimize.minimize(). Here, CG refers to the fact that an internal inversion of the Hessian is performed by conjugate gradient"
   ]
  },
  {
   "cell_type": "code",
   "execution_count": 15,
   "metadata": {},
   "outputs": [],
   "source": [
    "def f(x):\n",
    "    # rosenbrock function\n",
    "    return .5*(1 - x[0])**2 + (x[1] - x[0]**2)**2\n",
    "\n",
    "def jacobian(x):\n",
    "    return np.array((-2*.5*(1 - x[0]) - 4*x[0]*(x[1] - x[0]**2), 2*(x[1] - x[0]**2)))"
   ]
  },
  {
   "cell_type": "code",
   "execution_count": 16,
   "metadata": {},
   "outputs": [
    {
     "data": {
      "text/plain": [
       "     fun: 1.5601357400786612e-15\n",
       "     jac: array([ 1.05753092e-07, -7.48325277e-08])\n",
       " message: 'Optimization terminated successfully.'\n",
       "    nfev: 11\n",
       "    nhev: 0\n",
       "     nit: 10\n",
       "    njev: 33\n",
       "  status: 0\n",
       " success: True\n",
       "       x: array([0.99999995, 0.99999988])"
      ]
     },
     "execution_count": 16,
     "metadata": {},
     "output_type": "execute_result"
    }
   ],
   "source": [
    "optimize.minimize(f, [2, -1], method='Newton-CG', jac=jacobian)"
   ]
  },
  {
   "cell_type": "markdown",
   "metadata": {},
   "source": [
    "Note that compared to a conjugate gradient (above), Newton’s method has required less function evaluations, but more gradient evaluations, as it uses it to approximate the Hessian. Let’s compute the Hessian and pass it to the algorithm:"
   ]
  },
  {
   "cell_type": "code",
   "execution_count": 17,
   "metadata": {},
   "outputs": [
    {
     "data": {
      "text/plain": [
       "     fun: 1.6277298383706738e-15\n",
       "     jac: array([ 1.11044158e-07, -7.78093352e-08])\n",
       " message: 'Optimization terminated successfully.'\n",
       "    nfev: 11\n",
       "    nhev: 10\n",
       "     nit: 10\n",
       "    njev: 11\n",
       "  status: 0\n",
       " success: True\n",
       "       x: array([0.99999994, 0.99999988])"
      ]
     },
     "execution_count": 17,
     "metadata": {},
     "output_type": "execute_result"
    }
   ],
   "source": [
    "def hessian(x):\n",
    "    return np.array(((1 - 4*x[1] + 12*x[0]**2, -4*x[0]), (-4*x[0], 2)))\n",
    "\n",
    "optimize.minimize(f, [2, -1], method='Newton-CG', jac=jacobian, hess=hessian)"
   ]
  },
  {
   "cell_type": "markdown",
   "metadata": {},
   "source": [
    "__Note__\n",
    "\n",
    "At very high-dimension, the inversion of the Hessian can be costly and unstable (large scale > 250). \n",
    "\n",
    "Newton optimizers should not to be confused with Newton’s root finding method, based on the same principles, `scipy.optimize.newton()`."
   ]
  },
  {
   "cell_type": "markdown",
   "metadata": {},
   "source": [
    "## Quasi-Newton methods: approximating the Hessian on the fly"
   ]
  },
  {
   "cell_type": "markdown",
   "metadata": {},
   "source": [
    "BFGS: BFGS (Broyden-Fletcher-Goldfarb-Shanno algorithm) refines at each step an approximation of the Hessian."
   ]
  },
  {
   "cell_type": "code",
   "execution_count": null,
   "metadata": {},
   "outputs": [],
   "source": []
  }
 ],
 "metadata": {
  "kernelspec": {
   "display_name": "Python 3",
   "language": "python",
   "name": "python3"
  },
  "language_info": {
   "codemirror_mode": {
    "name": "ipython",
    "version": 3
   },
   "file_extension": ".py",
   "mimetype": "text/x-python",
   "name": "python",
   "nbconvert_exporter": "python",
   "pygments_lexer": "ipython3",
   "version": "3.7.9"
  }
 },
 "nbformat": 4,
 "nbformat_minor": 4
}
