{
 "cells": [
  {
   "cell_type": "markdown",
   "metadata": {},
   "source": [
    "# 2.2. Advanced NumPy\n"
   ]
  },
  {
   "cell_type": "code",
   "execution_count": 1,
   "metadata": {},
   "outputs": [],
   "source": [
    "import numpy as np"
   ]
  },
  {
   "cell_type": "markdown",
   "metadata": {},
   "source": [
    "NumPy is at the base of Python’s scientific stack of tools. Its purpose to implement efficient operations on many items in a block of memory. Understanding how it works in detail helps in making efficient use of its flexibility, taking useful shortcuts.\n",
    "\n",
    "This section covers:\n",
    "\n",
    "- Anatomy of NumPy arrays, and its consequences. Tips and tricks.\n",
    "- Universal functions: what, why, and what to do if you want a new one.\n",
    "- Integration with other tools: NumPy offers several ways to wrap any data in an ndarray, without unnecessary copies."
   ]
  },
  {
   "cell_type": "markdown",
   "metadata": {},
   "source": [
    "## 2.2.1. Life of ndarray"
   ]
  },
  {
   "cell_type": "markdown",
   "metadata": {},
   "source": [
    "```\n",
    "ndarray =\n",
    "\n",
    "    block of memory + indexing scheme + data type descriptor\n",
    "\n",
    "        raw data\n",
    "        how to locate an element\n",
    "        how to interpret an element\n",
    "\n",
    "\n",
    "```\n",
    "\n",
    "```c\n",
    "typedef struct PyArrayObject {\n",
    "        PyObject_HEAD\n",
    "\n",
    "        /* Block of memory */\n",
    "        char *data;\n",
    "\n",
    "        /* Data type descriptor */\n",
    "        PyArray_Descr *descr;\n",
    "\n",
    "        /* Indexing scheme */\n",
    "        int nd;\n",
    "        npy_intp *dimensions;\n",
    "        npy_intp *strides;\n",
    "\n",
    "        /* Other stuff */\n",
    "        PyObject *base;\n",
    "        int flags;\n",
    "        PyObject *weakreflist;\n",
    "} PyArrayObject;\n",
    "\n",
    "```"
   ]
  },
  {
   "cell_type": "markdown",
   "metadata": {},
   "source": [
    "### 2.2.1.2. Block of memory"
   ]
  },
  {
   "cell_type": "code",
   "execution_count": 2,
   "metadata": {},
   "outputs": [
    {
     "data": {
      "text/plain": [
       "<memory at 0x000001AB7FD3A1C8>"
      ]
     },
     "execution_count": 2,
     "metadata": {},
     "output_type": "execute_result"
    }
   ],
   "source": [
    "x = np.array([1, 2, 3], dtype=np.int32)\n",
    "x.data"
   ]
  },
  {
   "cell_type": "code",
   "execution_count": 3,
   "metadata": {},
   "outputs": [
    {
     "data": {
      "text/plain": [
       "b'\\x01\\x00\\x00\\x00\\x02\\x00\\x00\\x00\\x03\\x00\\x00\\x00'"
      ]
     },
     "execution_count": 3,
     "metadata": {},
     "output_type": "execute_result"
    }
   ],
   "source": [
    "bytes(x.data)"
   ]
  },
  {
   "cell_type": "code",
   "execution_count": 4,
   "metadata": {},
   "outputs": [
    {
     "data": {
      "text/plain": [
       "1834343561904"
      ]
     },
     "execution_count": 4,
     "metadata": {},
     "output_type": "execute_result"
    }
   ],
   "source": [
    "# memory address of the data\n",
    "x.__array_interface__['data'][0]"
   ]
  },
  {
   "cell_type": "markdown",
   "metadata": {},
   "source": [
    "The whole `__array_interface__`:"
   ]
  },
  {
   "cell_type": "code",
   "execution_count": 5,
   "metadata": {},
   "outputs": [
    {
     "data": {
      "text/plain": [
       "{'data': (1834343561904, False),\n",
       " 'strides': None,\n",
       " 'descr': [('', '<i4')],\n",
       " 'typestr': '<i4',\n",
       " 'shape': (3,),\n",
       " 'version': 3}"
      ]
     },
     "execution_count": 5,
     "metadata": {},
     "output_type": "execute_result"
    }
   ],
   "source": [
    "x.__array_interface__"
   ]
  },
  {
   "cell_type": "markdown",
   "metadata": {},
   "source": [
    "Reminder: two ndarrays may share the same memory:"
   ]
  },
  {
   "cell_type": "code",
   "execution_count": 6,
   "metadata": {},
   "outputs": [
    {
     "data": {
      "text/plain": [
       "array([9, 2, 3])"
      ]
     },
     "execution_count": 6,
     "metadata": {},
     "output_type": "execute_result"
    }
   ],
   "source": [
    "x = np.array([1, 2, 3, 4])\n",
    "y = x[:-1]\n",
    "x[0] = 9\n",
    "y"
   ]
  },
  {
   "cell_type": "markdown",
   "metadata": {},
   "source": [
    "Memory does not need to be owned by an ndarray:"
   ]
  },
  {
   "cell_type": "code",
   "execution_count": 7,
   "metadata": {},
   "outputs": [],
   "source": [
    "x = b'1234'"
   ]
  },
  {
   "cell_type": "markdown",
   "metadata": {},
   "source": [
    "x is a string (in Python 3 a bytes), we can represent its data as an array of ints:"
   ]
  },
  {
   "cell_type": "code",
   "execution_count": 8,
   "metadata": {},
   "outputs": [
    {
     "data": {
      "text/plain": [
       "<memory at 0x000001AB7FD3AC48>"
      ]
     },
     "execution_count": 8,
     "metadata": {},
     "output_type": "execute_result"
    }
   ],
   "source": [
    "y = np.frombuffer(x, dtype=np.int8)\n",
    "y.data"
   ]
  },
  {
   "cell_type": "code",
   "execution_count": 9,
   "metadata": {},
   "outputs": [
    {
     "data": {
      "text/plain": [
       "True"
      ]
     },
     "execution_count": 9,
     "metadata": {},
     "output_type": "execute_result"
    }
   ],
   "source": [
    "y.base is x"
   ]
  },
  {
   "cell_type": "code",
   "execution_count": 10,
   "metadata": {},
   "outputs": [
    {
     "data": {
      "text/plain": [
       "  C_CONTIGUOUS : True\n",
       "  F_CONTIGUOUS : True\n",
       "  OWNDATA : False\n",
       "  WRITEABLE : False\n",
       "  ALIGNED : True\n",
       "  WRITEBACKIFCOPY : False\n",
       "  UPDATEIFCOPY : False"
      ]
     },
     "execution_count": 10,
     "metadata": {},
     "output_type": "execute_result"
    }
   ],
   "source": [
    "y.flags"
   ]
  },
  {
   "cell_type": "markdown",
   "metadata": {},
   "source": [
    "### 2.2.1.3. Data types"
   ]
  },
  {
   "cell_type": "markdown",
   "metadata": {},
   "source": [
    "`dtype` describes a single item in the array:\n",
    "\n",
    "|    |     |\n",
    "|----|-----|\n",
    "|type|scalar type of the data, one of:\n",
    "||int8, int16, float64, et al. (fixed size)\n",
    "||str, unicode, void (flexible size)\n",
    "|itemsize| size of the data block|\n",
    "|byteorder|byte order: big-endian > / little-endian < / not applicable|\n",
    "|fields|sub-types, if it's a structured data type|\n",
    "|shape|shape of the array, if its a sub-array|"
   ]
  },
  {
   "cell_type": "code",
   "execution_count": 11,
   "metadata": {},
   "outputs": [
    {
     "data": {
      "text/plain": [
       "numpy.int32"
      ]
     },
     "execution_count": 11,
     "metadata": {},
     "output_type": "execute_result"
    }
   ],
   "source": [
    "np.dtype(int).type"
   ]
  },
  {
   "cell_type": "code",
   "execution_count": 12,
   "metadata": {},
   "outputs": [
    {
     "data": {
      "text/plain": [
       "4"
      ]
     },
     "execution_count": 12,
     "metadata": {},
     "output_type": "execute_result"
    }
   ],
   "source": [
    "np.dtype(int).itemsize"
   ]
  },
  {
   "cell_type": "code",
   "execution_count": 13,
   "metadata": {},
   "outputs": [
    {
     "data": {
      "text/plain": [
       "'='"
      ]
     },
     "execution_count": 13,
     "metadata": {},
     "output_type": "execute_result"
    }
   ],
   "source": [
    "np.dtype(int).byteorder"
   ]
  },
  {
   "cell_type": "markdown",
   "metadata": {},
   "source": [
    "#### Casting and re-interpretation/views\n"
   ]
  },
  {
   "cell_type": "markdown",
   "metadata": {},
   "source": [
    "casting\n",
    "\n",
    " - on assignment\n",
    " - on array construction\n",
    " - on arithmetic\n",
    " - etc.\n",
    " - and manually: .astype(dtype)\n",
    "\n",
    "data re-interpretation\n",
    "\n",
    " - manually: .view(dtype)\n",
    "\n"
   ]
  },
  {
   "cell_type": "markdown",
   "metadata": {},
   "source": [
    "- Casting in arithmetic, in nutshell:\n",
    "    - only type (not value!) of operands matters\n",
    "    - largest “safe” type able to represent both is picked\n",
    "    - scalars can “lose” to arrays in some situations\n",
    "\n",
    "Casting in general copies data:"
   ]
  },
  {
   "cell_type": "code",
   "execution_count": 14,
   "metadata": {},
   "outputs": [
    {
     "data": {
      "text/plain": [
       "array([1., 2., 3., 4.])"
      ]
     },
     "execution_count": 14,
     "metadata": {},
     "output_type": "execute_result"
    }
   ],
   "source": [
    "x = np.array([1, 2, 3, 4], dtype=np.float)\n",
    "x"
   ]
  },
  {
   "cell_type": "code",
   "execution_count": 15,
   "metadata": {},
   "outputs": [
    {
     "data": {
      "text/plain": [
       "array([1, 2, 3, 4], dtype=int8)"
      ]
     },
     "execution_count": 15,
     "metadata": {},
     "output_type": "execute_result"
    }
   ],
   "source": [
    "y = x.astype(np.int8)\n",
    "y"
   ]
  },
  {
   "cell_type": "code",
   "execution_count": 16,
   "metadata": {},
   "outputs": [
    {
     "data": {
      "text/plain": [
       "array([2, 3, 4, 5], dtype=int8)"
      ]
     },
     "execution_count": 16,
     "metadata": {},
     "output_type": "execute_result"
    }
   ],
   "source": [
    "y + 1"
   ]
  },
  {
   "cell_type": "code",
   "execution_count": 17,
   "metadata": {},
   "outputs": [
    {
     "data": {
      "text/plain": [
       "array([257, 258, 259, 260], dtype=int16)"
      ]
     },
     "execution_count": 17,
     "metadata": {},
     "output_type": "execute_result"
    }
   ],
   "source": [
    "y + 256"
   ]
  },
  {
   "cell_type": "code",
   "execution_count": 18,
   "metadata": {},
   "outputs": [
    {
     "data": {
      "text/plain": [
       "array([257., 258., 259., 260.])"
      ]
     },
     "execution_count": 18,
     "metadata": {},
     "output_type": "execute_result"
    }
   ],
   "source": [
    "y + 256.0"
   ]
  },
  {
   "cell_type": "code",
   "execution_count": 19,
   "metadata": {},
   "outputs": [
    {
     "data": {
      "text/plain": [
       "array([257, 258, 259, 260])"
      ]
     },
     "execution_count": 19,
     "metadata": {},
     "output_type": "execute_result"
    }
   ],
   "source": [
    "y + np.array([256], dtype=np.int32)"
   ]
  },
  {
   "cell_type": "markdown",
   "metadata": {},
   "source": [
    "Casting on setitem: dtype of the array is not changed on item assignment:"
   ]
  },
  {
   "cell_type": "code",
   "execution_count": 20,
   "metadata": {},
   "outputs": [
    {
     "data": {
      "text/plain": [
       "array([2, 3, 4, 5], dtype=int8)"
      ]
     },
     "execution_count": 20,
     "metadata": {},
     "output_type": "execute_result"
    }
   ],
   "source": [
    "y[:] = y + 1.5\n",
    "y"
   ]
  },
  {
   "cell_type": "markdown",
   "metadata": {},
   "source": [
    "### 2.2.1.4. Indexing scheme: strides"
   ]
  },
  {
   "cell_type": "markdown",
   "metadata": {},
   "source": [
    "At which byte in ``x.data`` does the item ``x[1, 2]`` begin?"
   ]
  },
  {
   "cell_type": "code",
   "execution_count": 21,
   "metadata": {},
   "outputs": [
    {
     "data": {
      "text/plain": [
       "b'\\x01\\x02\\x03\\x04\\x05\\x06\\x07\\x08\\t'"
      ]
     },
     "execution_count": 21,
     "metadata": {},
     "output_type": "execute_result"
    }
   ],
   "source": [
    "x = np.array([[1, 2, 3],\n",
    "              [4, 5, 6],\n",
    "              [7, 8, 9]], dtype=np.int8)\n",
    "x.tobytes('A')"
   ]
  },
  {
   "cell_type": "markdown",
   "metadata": {},
   "source": [
    "he answer (in NumPy)\n",
    "\n",
    "- strides: the number of bytes to jump to find the next element\n",
    "- 1 stride per dimension\n",
    "\n"
   ]
  },
  {
   "cell_type": "code",
   "execution_count": 22,
   "metadata": {},
   "outputs": [
    {
     "data": {
      "text/plain": [
       "(3, 1)"
      ]
     },
     "execution_count": 22,
     "metadata": {},
     "output_type": "execute_result"
    }
   ],
   "source": [
    "x.strides"
   ]
  },
  {
   "cell_type": "code",
   "execution_count": 23,
   "metadata": {},
   "outputs": [
    {
     "data": {
      "text/plain": [
       "6"
      ]
     },
     "execution_count": 23,
     "metadata": {},
     "output_type": "execute_result"
    }
   ],
   "source": [
    "byte_offset = 3*1 + 1*2\n",
    "x.flat[byte_offset]"
   ]
  },
  {
   "cell_type": "code",
   "execution_count": 24,
   "metadata": {},
   "outputs": [
    {
     "data": {
      "text/plain": [
       "6"
      ]
     },
     "execution_count": 24,
     "metadata": {},
     "output_type": "execute_result"
    }
   ],
   "source": [
    "x[1, 2]"
   ]
  },
  {
   "cell_type": "markdown",
   "metadata": {},
   "source": [
    "\n",
    "\n",
    "Note\n",
    "\n",
    "The Python built-in bytes returns bytes in C-order by default which can cause confusion when trying to inspect memory layout. We use numpy.ndarray.tobytes() with order=A instead, which preserves the C or F ordering of the bytes in memory. "
   ]
  },
  {
   "cell_type": "code",
   "execution_count": 25,
   "metadata": {},
   "outputs": [],
   "source": [
    "x = np.array(\n",
    "    [\n",
    "        [1, 2, 3],\n",
    "        [4, 5, 6]\n",
    "    ],\n",
    "    dtype=np.int16,\n",
    "    order='C'\n",
    ")"
   ]
  },
  {
   "cell_type": "code",
   "execution_count": 26,
   "metadata": {},
   "outputs": [
    {
     "data": {
      "text/plain": [
       "(6, 2)"
      ]
     },
     "execution_count": 26,
     "metadata": {},
     "output_type": "execute_result"
    }
   ],
   "source": [
    "x.strides"
   ]
  },
  {
   "cell_type": "code",
   "execution_count": 27,
   "metadata": {},
   "outputs": [
    {
     "data": {
      "text/plain": [
       "b'\\x01\\x00\\x02\\x00\\x03\\x00\\x04\\x00\\x05\\x00\\x06\\x00'"
      ]
     },
     "execution_count": 27,
     "metadata": {},
     "output_type": "execute_result"
    }
   ],
   "source": [
    "x.tobytes('A')"
   ]
  },
  {
   "cell_type": "markdown",
   "metadata": {},
   "source": [
    "- Need to jump 6 bytes to find the next row\n",
    "- Need to jump 2 bytes to find the next column"
   ]
  },
  {
   "cell_type": "code",
   "execution_count": 28,
   "metadata": {},
   "outputs": [
    {
     "data": {
      "text/plain": [
       "(2, 4)"
      ]
     },
     "execution_count": 28,
     "metadata": {},
     "output_type": "execute_result"
    }
   ],
   "source": [
    "y = np.array(x, order='F')\n",
    "y.strides"
   ]
  },
  {
   "cell_type": "code",
   "execution_count": 29,
   "metadata": {},
   "outputs": [
    {
     "data": {
      "text/plain": [
       "b'\\x01\\x00\\x04\\x00\\x02\\x00\\x05\\x00\\x03\\x00\\x06\\x00'"
      ]
     },
     "execution_count": 29,
     "metadata": {},
     "output_type": "execute_result"
    }
   ],
   "source": [
    "y.tobytes('A')"
   ]
  },
  {
   "cell_type": "markdown",
   "metadata": {},
   "source": [
    "\n",
    "- Need to jump 2 bytes to find the next row\n",
    "- Need to jump 4 bytes to find the next column\n"
   ]
  },
  {
   "cell_type": "markdown",
   "metadata": {},
   "source": [
    "Note: Now we can understand the behavior of `.view()`: "
   ]
  },
  {
   "cell_type": "code",
   "execution_count": 30,
   "metadata": {},
   "outputs": [],
   "source": [
    "y = np.array([[1, 3], [2, 4]], dtype=np.uint8).transpose()\n",
    "x = y.copy()"
   ]
  },
  {
   "cell_type": "code",
   "execution_count": 31,
   "metadata": {},
   "outputs": [
    {
     "data": {
      "text/plain": [
       "(2, 1)"
      ]
     },
     "execution_count": 31,
     "metadata": {},
     "output_type": "execute_result"
    }
   ],
   "source": [
    "x.strides"
   ]
  },
  {
   "cell_type": "code",
   "execution_count": 32,
   "metadata": {},
   "outputs": [
    {
     "data": {
      "text/plain": [
       "(1, 2)"
      ]
     },
     "execution_count": 32,
     "metadata": {},
     "output_type": "execute_result"
    }
   ],
   "source": [
    "y.strides"
   ]
  },
  {
   "cell_type": "code",
   "execution_count": 33,
   "metadata": {},
   "outputs": [
    {
     "data": {
      "text/plain": [
       "b'\\x01\\x02\\x03\\x04'"
      ]
     },
     "execution_count": 33,
     "metadata": {},
     "output_type": "execute_result"
    }
   ],
   "source": [
    "x.tobytes('A')"
   ]
  },
  {
   "cell_type": "code",
   "execution_count": 34,
   "metadata": {},
   "outputs": [
    {
     "data": {
      "text/plain": [
       "b'\\x01\\x02\\x03\\x04'"
      ]
     },
     "execution_count": 34,
     "metadata": {},
     "output_type": "execute_result"
    }
   ],
   "source": [
    "x.tobytes('A')"
   ]
  },
  {
   "cell_type": "markdown",
   "metadata": {},
   "source": [
    "### Slicing with integers"
   ]
  },
  {
   "cell_type": "markdown",
   "metadata": {},
   "source": [
    "\n",
    "- Everything can be represented by changing only shape, strides, and possibly adjusting the data pointer!\n",
    "- Never makes copies of the data\n"
   ]
  },
  {
   "cell_type": "code",
   "execution_count": 35,
   "metadata": {},
   "outputs": [
    {
     "data": {
      "text/plain": [
       "array([6, 5, 4, 3, 2, 1])"
      ]
     },
     "execution_count": 35,
     "metadata": {},
     "output_type": "execute_result"
    }
   ],
   "source": [
    "x = np.array([1, 2, 3, 4, 5, 6], dtype=np.int32)\n",
    "y = x[::-1]\n",
    "y"
   ]
  },
  {
   "cell_type": "code",
   "execution_count": 36,
   "metadata": {},
   "outputs": [
    {
     "data": {
      "text/plain": [
       "(-4,)"
      ]
     },
     "execution_count": 36,
     "metadata": {},
     "output_type": "execute_result"
    }
   ],
   "source": [
    "y.strides"
   ]
  },
  {
   "cell_type": "code",
   "execution_count": 37,
   "metadata": {},
   "outputs": [
    {
     "data": {
      "text/plain": [
       "8"
      ]
     },
     "execution_count": 37,
     "metadata": {},
     "output_type": "execute_result"
    }
   ],
   "source": [
    "y = x[2:]\n",
    "y.__array_interface__['data'][0] - x.__array_interface__['data'][0]"
   ]
  },
  {
   "cell_type": "code",
   "execution_count": 38,
   "metadata": {},
   "outputs": [
    {
     "data": {
      "text/plain": [
       "(800, 80, 8)"
      ]
     },
     "execution_count": 38,
     "metadata": {},
     "output_type": "execute_result"
    }
   ],
   "source": [
    "x = np.zeros((10, 10, 10), dtype=np.float)\n",
    "x.strides"
   ]
  },
  {
   "cell_type": "code",
   "execution_count": 39,
   "metadata": {},
   "outputs": [
    {
     "data": {
      "text/plain": [
       "(1600, 240, 32)"
      ]
     },
     "execution_count": 39,
     "metadata": {},
     "output_type": "execute_result"
    }
   ],
   "source": [
    "x[::2, ::3, ::4].strides"
   ]
  },
  {
   "cell_type": "markdown",
   "metadata": {},
   "source": [
    "Similarly, transposes never make copies (it just swaps strides):"
   ]
  },
  {
   "cell_type": "code",
   "execution_count": 40,
   "metadata": {},
   "outputs": [
    {
     "data": {
      "text/plain": [
       "(800, 80, 8)"
      ]
     },
     "execution_count": 40,
     "metadata": {},
     "output_type": "execute_result"
    }
   ],
   "source": [
    "x = np.zeros((10, 10, 10), dtype=np.float)\n",
    "x.strides"
   ]
  },
  {
   "cell_type": "code",
   "execution_count": 41,
   "metadata": {},
   "outputs": [
    {
     "data": {
      "text/plain": [
       "(8, 80, 800)"
      ]
     },
     "execution_count": 41,
     "metadata": {},
     "output_type": "execute_result"
    }
   ],
   "source": [
    "x.T.strides"
   ]
  },
  {
   "cell_type": "markdown",
   "metadata": {},
   "source": [
    "But: not all reshaping operations can be represented by playing with strides:"
   ]
  },
  {
   "cell_type": "code",
   "execution_count": 42,
   "metadata": {},
   "outputs": [
    {
     "data": {
      "text/plain": [
       "(1, 2)"
      ]
     },
     "execution_count": 42,
     "metadata": {},
     "output_type": "execute_result"
    }
   ],
   "source": [
    "a = np.arange(6, dtype=np.int8).reshape(3, 2)\n",
    "b = a.T\n",
    "b.strides"
   ]
  },
  {
   "cell_type": "markdown",
   "metadata": {},
   "source": [
    "Here, there is no way to represent the array c given one stride and the block of memory for a. Therefore, the reshape operation needs to make a copy here."
   ]
  },
  {
   "cell_type": "code",
   "execution_count": 43,
   "metadata": {},
   "outputs": [
    {
     "name": "stdout",
     "output_type": "stream",
     "text": [
      "Help on function as_strided in module numpy.lib.stride_tricks:\n",
      "\n",
      "as_strided(x, shape=None, strides=None, subok=False, writeable=True)\n",
      "    Create a view into the array with the given shape and strides.\n",
      "    \n",
      "    .. warning:: This function has to be used with extreme care, see notes.\n",
      "    \n",
      "    Parameters\n",
      "    ----------\n",
      "    x : ndarray\n",
      "        Array to create a new.\n",
      "    shape : sequence of int, optional\n",
      "        The shape of the new array. Defaults to ``x.shape``.\n",
      "    strides : sequence of int, optional\n",
      "        The strides of the new array. Defaults to ``x.strides``.\n",
      "    subok : bool, optional\n",
      "        .. versionadded:: 1.10\n",
      "    \n",
      "        If True, subclasses are preserved.\n",
      "    writeable : bool, optional\n",
      "        .. versionadded:: 1.12\n",
      "    \n",
      "        If set to False, the returned array will always be readonly.\n",
      "        Otherwise it will be writable if the original array was. It\n",
      "        is advisable to set this to False if possible (see Notes).\n",
      "    \n",
      "    Returns\n",
      "    -------\n",
      "    view : ndarray\n",
      "    \n",
      "    See also\n",
      "    --------\n",
      "    broadcast_to: broadcast an array to a given shape.\n",
      "    reshape : reshape an array.\n",
      "    \n",
      "    Notes\n",
      "    -----\n",
      "    ``as_strided`` creates a view into the array given the exact strides\n",
      "    and shape. This means it manipulates the internal data structure of\n",
      "    ndarray and, if done incorrectly, the array elements can point to\n",
      "    invalid memory and can corrupt results or crash your program.\n",
      "    It is advisable to always use the original ``x.strides`` when\n",
      "    calculating new strides to avoid reliance on a contiguous memory\n",
      "    layout.\n",
      "    \n",
      "    Furthermore, arrays created with this function often contain self\n",
      "    overlapping memory, so that two elements are identical.\n",
      "    Vectorized write operations on such arrays will typically be\n",
      "    unpredictable. They may even give different results for small, large,\n",
      "    or transposed arrays.\n",
      "    Since writing to these arrays has to be tested and done with great\n",
      "    care, you may want to use ``writeable=False`` to avoid accidental write\n",
      "    operations.\n",
      "    \n",
      "    For these reasons it is advisable to avoid ``as_strided`` when\n",
      "    possible.\n",
      "\n"
     ]
    }
   ],
   "source": [
    "from numpy.lib.stride_tricks import as_strided\n",
    "help(as_strided)"
   ]
  },
  {
   "cell_type": "code",
   "execution_count": 44,
   "metadata": {},
   "outputs": [
    {
     "data": {
      "text/plain": [
       "array([1, 3], dtype=int16)"
      ]
     },
     "execution_count": 44,
     "metadata": {},
     "output_type": "execute_result"
    }
   ],
   "source": [
    "# as_strided does not check that you stay inside the memory block bounds… \n",
    "x = np.array([1, 2, 3, 4], dtype=np.int16)\n",
    "as_strided(x, strides=(2*2, ), shape=(2, ))"
   ]
  },
  {
   "cell_type": "code",
   "execution_count": 45,
   "metadata": {},
   "outputs": [
    {
     "data": {
      "text/plain": [
       "array([1, 3], dtype=int16)"
      ]
     },
     "execution_count": 45,
     "metadata": {},
     "output_type": "execute_result"
    }
   ],
   "source": [
    "x[::2]"
   ]
  },
  {
   "cell_type": "markdown",
   "metadata": {},
   "source": [
    "## Broadcasting\n",
    "    Doing something useful with it: outer product of [1, 2, 3, 4] and [5, 6, 7]\n"
   ]
  },
  {
   "cell_type": "code",
   "execution_count": 46,
   "metadata": {},
   "outputs": [
    {
     "data": {
      "text/plain": [
       "array([[1, 2, 3, 4],\n",
       "       [1, 2, 3, 4],\n",
       "       [1, 2, 3, 4]], dtype=int16)"
      ]
     },
     "execution_count": 46,
     "metadata": {},
     "output_type": "execute_result"
    }
   ],
   "source": [
    "x = np.array([1, 2, 3, 4], dtype=np.int16)\n",
    "x2 = as_strided(x, strides=(0, 1*2), shape=(3, 4))\n",
    "x2"
   ]
  },
  {
   "cell_type": "code",
   "execution_count": 47,
   "metadata": {},
   "outputs": [
    {
     "data": {
      "text/plain": [
       "array([[5, 5, 5, 5],\n",
       "       [6, 6, 6, 6],\n",
       "       [7, 7, 7, 7]], dtype=int16)"
      ]
     },
     "execution_count": 47,
     "metadata": {},
     "output_type": "execute_result"
    }
   ],
   "source": [
    "y = np.array([5, 6, 7], dtype=np.int16)\n",
    "y2 = as_strided(y, strides=(1*2, 0), shape=(3, 4))\n",
    "y2"
   ]
  },
  {
   "cell_type": "code",
   "execution_count": 48,
   "metadata": {},
   "outputs": [
    {
     "data": {
      "text/plain": [
       "array([[ 5, 10, 15, 20],\n",
       "       [ 6, 12, 18, 24],\n",
       "       [ 7, 14, 21, 28]], dtype=int16)"
      ]
     },
     "execution_count": 48,
     "metadata": {},
     "output_type": "execute_result"
    }
   ],
   "source": [
    "x2 * y2"
   ]
  },
  {
   "cell_type": "markdown",
   "metadata": {},
   "source": [
    "… seems somehow familiar …"
   ]
  },
  {
   "cell_type": "code",
   "execution_count": 49,
   "metadata": {},
   "outputs": [
    {
     "data": {
      "text/plain": [
       "array([[ 5, 10, 15, 20],\n",
       "       [ 6, 12, 18, 24],\n",
       "       [ 7, 14, 21, 28]], dtype=int16)"
      ]
     },
     "execution_count": 49,
     "metadata": {},
     "output_type": "execute_result"
    }
   ],
   "source": [
    "x = np.array([1, 2, 3, 4], dtype=np.int16)\n",
    "y = np.array([5, 6, 7], dtype=np.int16)\n",
    "x[np.newaxis, :] * y[:, np.newaxis]"
   ]
  },
  {
   "cell_type": "markdown",
   "metadata": {},
   "source": [
    "\n",
    "    Internally, array broadcasting is indeed implemented using 0-strides.\n"
   ]
  },
  {
   "cell_type": "markdown",
   "metadata": {},
   "source": [
    "### More tricks: diagonals "
   ]
  },
  {
   "cell_type": "markdown",
   "metadata": {},
   "source": [
    "__challange__: Pick diagonal entries of the matrix: (assume C memory order):"
   ]
  },
  {
   "cell_type": "code",
   "execution_count": 50,
   "metadata": {},
   "outputs": [],
   "source": [
    "x = np.array([\n",
    "    [1, 2, 3],\n",
    "    [4, 5, 6],\n",
    "    [7, 8, 9]], dtype=np.int32)"
   ]
  },
  {
   "cell_type": "code",
   "execution_count": 51,
   "metadata": {},
   "outputs": [
    {
     "data": {
      "text/plain": [
       "array([1, 5, 9])"
      ]
     },
     "execution_count": 51,
     "metadata": {},
     "output_type": "execute_result"
    }
   ],
   "source": [
    "x_diag = as_strided(x, shape=(3, ), strides=((3+1)*x.itemsize, ))\n",
    "x_diag"
   ]
  },
  {
   "cell_type": "code",
   "execution_count": 52,
   "metadata": {},
   "outputs": [
    {
     "data": {
      "text/plain": [
       "array([2, 6])"
      ]
     },
     "execution_count": 52,
     "metadata": {},
     "output_type": "execute_result"
    }
   ],
   "source": [
    "as_strided(x[0, 1:], shape=(2, ), strides=((3+1)*x.itemsize, ))"
   ]
  },
  {
   "cell_type": "code",
   "execution_count": 53,
   "metadata": {},
   "outputs": [
    {
     "data": {
      "text/plain": [
       "array([4, 8])"
      ]
     },
     "execution_count": 53,
     "metadata": {},
     "output_type": "execute_result"
    }
   ],
   "source": [
    "as_strided(x[1:, 0], shape=(2, ), strides=((3+1)*x.itemsize, ))"
   ]
  },
  {
   "cell_type": "markdown",
   "metadata": {},
   "source": [
    "__challange__: Compute the tensor trace:"
   ]
  },
  {
   "cell_type": "code",
   "execution_count": 54,
   "metadata": {},
   "outputs": [],
   "source": [
    "x = np.arange(5*5*5*5).reshape(5, 5, 5, 5)\n",
    "s = 0\n",
    "for i in range(0, 5):\n",
    "    for j in range(0, 5):\n",
    "        s+= x[j, i, j, i]"
   ]
  },
  {
   "cell_type": "markdown",
   "metadata": {},
   "source": [
    "by striding, and using sum() on the result."
   ]
  },
  {
   "cell_type": "code",
   "execution_count": 55,
   "metadata": {},
   "outputs": [],
   "source": [
    "y = as_strided(x, shape=(5, 5), strides=((5*5*5 + 5)*x.itemsize, (5*5 + 1)*x.itemsize))\n",
    "s2 = y.sum()"
   ]
  },
  {
   "cell_type": "code",
   "execution_count": 56,
   "metadata": {},
   "outputs": [],
   "source": [
    "assert s == s2"
   ]
  },
  {
   "cell_type": "markdown",
   "metadata": {},
   "source": [
    "## 2.2.2.2. Exercise: building an ufunc from scratch\n"
   ]
  },
  {
   "cell_type": "markdown",
   "metadata": {},
   "source": [
    "The Mandelbrot fractal is defined by the iteration\n",
    "\n",
    "$$ z \\leftarrow z^2 + c$$"
   ]
  },
  {
   "cell_type": "markdown",
   "metadata": {},
   "source": [
    "where $c = x + i y$ is a complex number. This iteration is repeated – if $z$ stays finite no matter how long the iteration runs, $c$ belongs to the Mandelbrot set."
   ]
  },
  {
   "cell_type": "markdown",
   "metadata": {},
   "source": [
    "- make a ufunc called mandel(z0, c) that computes:\n",
    "    ```\n",
    "    z = z0\n",
    "    for k in range(0, iterations):\n",
    "        z = z*z + c\n",
    "    ```\n",
    "    say 100 iterations or until `z.real**2 + z.imag**2 > 1000`. Use it to detemrine which c\n",
    "    are in the Mandelbrot set.\n",
    "- write it in Cython"
   ]
  },
  {
   "cell_type": "code",
   "execution_count": 57,
   "metadata": {},
   "outputs": [
    {
     "ename": "SyntaxError",
     "evalue": "invalid syntax (<ipython-input-57-53100d327b73>, line 4)",
     "output_type": "error",
     "traceback": [
      "\u001b[1;36m  File \u001b[1;32m\"<ipython-input-57-53100d327b73>\"\u001b[1;36m, line \u001b[1;32m4\u001b[0m\n\u001b[1;33m    cdef void mandel_single_point(double complex *z_in,\u001b[0m\n\u001b[1;37m            ^\u001b[0m\n\u001b[1;31mSyntaxError\u001b[0m\u001b[1;31m:\u001b[0m invalid syntax\n"
     ]
    }
   ],
   "source": [
    "# The elementwise function\n",
    "# ------------------------\n",
    "\n",
    "cdef void mandel_single_point(double complex *z_in, \n",
    "                              double complex *c_in,\n",
    "                              double complex *z_out) nogil:\n",
    "    #\n",
    "    # The Mandelbrot iteration\n",
    "    #\n",
    "\n",
    "    #\n",
    "    # Some points of note:\n",
    "    #\n",
    "    # - It's *NOT* allowed to call any Python functions here.\n",
    "    #\n",
    "    #   The Ufunc loop runs with the Python Global Interpreter Lock released.\n",
    "    #   Hence, the ``nogil``.\n",
    "    #\n",
    "    # - And so all local variables must be declared with ``cdef``\n",
    "    #\n",
    "    # - Note also that this function receives *pointers* to the data;\n",
    "    #   the \"traditional\" solution to passing complex variables around\n",
    "    #\n",
    "\n",
    "    cdef double complex z = z_in[0]\n",
    "    cdef double complex c = c_in[0]\n",
    "    cdef int k  # the integer we use in the for loop\n",
    "\n",
    "    # Straightforward iteration\n",
    "\n",
    "    for k in range(100):\n",
    "        z = z*z + c\n",
    "        if z.real**2 + z.imag**2 > 1000:\n",
    "            break\n",
    "\n",
    "    # Return the answer for this point\n",
    "    z_out[0] = z\n",
    "\n",
    "\n",
    "# Boilerplate Cython definitions\n",
    "#\n",
    "# Pulls definitions from the Numpy C headers.\n",
    "# -------------------------------------------\n",
    "\n",
    "from numpy cimport import_array, import_ufunc \n",
    "from numpy cimport (PyUFunc_FromFuncAndData,\n",
    "                    PyUFuncGenericFunction)\n",
    "from numpy cimport NPY_CDOUBLE\n",
    "from numpy cimport PyUFunc_DD_D\n",
    "\n",
    "# Required module initialization\n",
    "# ------------------------------\n",
    "\n",
    "import_array()\n",
    "import_ufunc()\n",
    "\n",
    "\n",
    "# The actual ufunc declaration\n",
    "# ----------------------------\n",
    "\n",
    "cdef PyUFuncGenericFunction loop_func[1]\n",
    "cdef char input_output_types[3]\n",
    "cdef void *elementwise_funcs[1]\n",
    "\n",
    "loop_func[0] = PyUFunc_DD_D\n",
    "\n",
    "input_output_types[0] = NPY_CDOUBLE\n",
    "input_output_types[1] = NPY_CDOUBLE\n",
    "input_output_types[2] = NPY_CDOUBLE\n",
    "\n",
    "elementwise_funcs[0] = <void*>mandel_single_point\n",
    "\n",
    "mandel = PyUFunc_FromFuncAndData(\n",
    "    loop_func,\n",
    "    elementwise_funcs,\n",
    "    input_output_types,\n",
    "    1, # number of supported input types\n",
    "    2, # number of input args\n",
    "    1, # number of output args\n",
    "    0, # `identity` element, never mind this\n",
    "    \"mandel\", # function name\n",
    "    \"mandel(z, c) -> computes iterated z*z + c\", # docstring\n",
    "    0 # unused\n",
    "    )\n",
    "\n",
    "\"\"\"\n",
    "Plot Mandelbrot\n",
    "================\n",
    "\n",
    "Plot the Mandelbrot ensemble.\n",
    "\n",
    "\"\"\"\n",
    "\n",
    "import numpy as np\n",
    "import mandel\n",
    "x = np.linspace(-1.7, 0.6, 1000)\n",
    "y = np.linspace(-1.4, 1.4, 1000)\n",
    "c = x[None,:] + 1j*y[:,None]\n",
    "z = mandel.mandel(c, c)\n",
    "\n",
    "import matplotlib.pyplot as plt\n",
    "plt.imshow(abs(z)**2 < 1000, extent=[-1.7, 0.6, -1.4, 1.4])\n",
    "plt.gray()\n",
    "plt.show()\n",
    "\n"
   ]
  },
  {
   "cell_type": "code",
   "execution_count": null,
   "metadata": {},
   "outputs": [],
   "source": []
  },
  {
   "cell_type": "code",
   "execution_count": null,
   "metadata": {},
   "outputs": [],
   "source": []
  }
 ],
 "metadata": {
  "kernelspec": {
   "display_name": "Python 3",
   "language": "python",
   "name": "python3"
  },
  "language_info": {
   "codemirror_mode": {
    "name": "ipython",
    "version": 3
   },
   "file_extension": ".py",
   "mimetype": "text/x-python",
   "name": "python",
   "nbconvert_exporter": "python",
   "pygments_lexer": "ipython3",
   "version": "3.7.9"
  }
 },
 "nbformat": 4,
 "nbformat_minor": 4
}
